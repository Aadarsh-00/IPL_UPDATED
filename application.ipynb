{
 "cells": [
  {
   "cell_type": "code",
   "execution_count": null,
   "id": "70bae92f",
   "metadata": {},
   "outputs": [
    {
     "name": "stdout",
     "output_type": "stream",
     "text": [
      "✅ Model trained and saved as score_predictor_model.pkl\n"
     ]
    }
   ],
   "source": [
    "import pandas as pd\n",
    "from sklearn.model_selection import train_test_split\n",
    "from sklearn.linear_model import LinearRegression\n",
    "from sklearn.pipeline import Pipeline\n",
    "from sklearn.compose import ColumnTransformer\n",
    "from sklearn.preprocessing import OneHotEncoder\n",
    "import pickle\n",
    "\n",
    "# Load datasets\n",
    "matches = pd.read_csv(\"matches.csv\")\n",
    "deliveries = pd.read_csv(\"deliveries.csv\")\n",
    "\n",
    "# Add is_four and is_six columns to deliveries\n",
    "deliveries['is_four'] = deliveries['batsman_runs'] == 4\n",
    "deliveries['is_six'] = deliveries['batsman_runs'] == 6\n",
    "\n",
    "# Rename for merging\n",
    "matches.rename(columns={'id': 'match_id'}, inplace=True)\n",
    "\n",
    "# Aggregate inning 1 data\n",
    "agg = deliveries[deliveries['inning'] == 1].groupby('match_id').agg({\n",
    "    'is_four': 'sum',\n",
    "    'is_six': 'sum',\n",
    "    'total_runs': 'sum'\n",
    "}).reset_index().rename(columns={\n",
    "    'is_four': 'total_fours',\n",
    "    'is_six': 'total_sixes'\n",
    "})\n",
    "\n",
    "# Merge with matches\n",
    "df = matches.merge(agg, on='match_id', how='left')\n",
    "\n",
    "# Drop missing data\n",
    "df = df.dropna(subset=['total_runs'])\n",
    "\n",
    "# Select features and target\n",
    "df['our_team'] = df['team1']\n",
    "df['opponent_team'] = df['team2']\n",
    "df['role'] = df['toss_decision'].apply(lambda x: 'bat' if x == 'bat' else 'bowl')\n",
    "\n",
    "X = df[['venue', 'our_team', 'opponent_team', 'role']]\n",
    "y = df['total_runs']\n",
    "\n",
    "# Preprocessing pipeline\n",
    "preprocessor = ColumnTransformer([\n",
    "    ('cat', OneHotEncoder(handle_unknown='ignore'), ['city', 'venue', 'our_team', 'opponent_team', 'role'])\n",
    "])\n",
    "\n",
    "model_pipeline = Pipeline([\n",
    "    ('preprocessor', preprocessor),\n",
    "    ('regressor', LinearRegression())\n",
    "])\n",
    "\n",
    "# Train-test split\n",
    "X_train, X_test, y_train, y_test = train_test_split(X, y, test_size=0.2, random_state=42)\n",
    "\n",
    "# Fit and save model\n",
    "model_pipeline.fit(X_train, y_train)\n",
    "\n",
    "with open(\"score_predictor_model.pkl\", \"wb\") as f:\n",
    "    pickle.dump(model_pipeline, f)\n",
    "\n",
    "print(\"✅ Model trained and saved as score_predictor_model.pkl\")\n"
   ]
  }
 ],
 "metadata": {
  "kernelspec": {
   "display_name": "Python 3",
   "language": "python",
   "name": "python3"
  },
  "language_info": {
   "codemirror_mode": {
    "name": "ipython",
    "version": 3
   },
   "file_extension": ".py",
   "mimetype": "text/x-python",
   "name": "python",
   "nbconvert_exporter": "python",
   "pygments_lexer": "ipython3",
   "version": "3.13.5"
  }
 },
 "nbformat": 4,
 "nbformat_minor": 5
}
